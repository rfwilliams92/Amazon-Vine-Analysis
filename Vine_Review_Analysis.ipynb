{
 "cells": [
  {
   "cell_type": "code",
   "execution_count": 29,
   "id": "263a7087-ef90-4fc3-b3a0-938f90a96b96",
   "metadata": {},
   "outputs": [],
   "source": [
    "%matplotlib inline"
   ]
  },
  {
   "cell_type": "code",
   "execution_count": 44,
   "id": "ea22a91a-8df8-4d9a-847d-8d83e0ac57ad",
   "metadata": {},
   "outputs": [],
   "source": [
    "import pandas as pd\n",
    "import matplotlib.pyplot as plt\n",
    "import numpy as np"
   ]
  },
  {
   "cell_type": "code",
   "execution_count": 3,
   "id": "d563f05b-581d-46ec-9d37-3582e077cac8",
   "metadata": {},
   "outputs": [
    {
     "data": {
      "text/html": [
       "<div>\n",
       "<style scoped>\n",
       "    .dataframe tbody tr th:only-of-type {\n",
       "        vertical-align: middle;\n",
       "    }\n",
       "\n",
       "    .dataframe tbody tr th {\n",
       "        vertical-align: top;\n",
       "    }\n",
       "\n",
       "    .dataframe thead th {\n",
       "        text-align: right;\n",
       "    }\n",
       "</style>\n",
       "<table border=\"1\" class=\"dataframe\">\n",
       "  <thead>\n",
       "    <tr style=\"text-align: right;\">\n",
       "      <th></th>\n",
       "      <th>review_id</th>\n",
       "      <th>star_rating</th>\n",
       "      <th>helpful_votes</th>\n",
       "      <th>total_votes</th>\n",
       "      <th>vine</th>\n",
       "      <th>verified_purchase</th>\n",
       "    </tr>\n",
       "  </thead>\n",
       "  <tbody>\n",
       "    <tr>\n",
       "      <th>0</th>\n",
       "      <td>R2UM5QMHBHC90Q</td>\n",
       "      <td>5</td>\n",
       "      <td>0</td>\n",
       "      <td>0</td>\n",
       "      <td>N</td>\n",
       "      <td>Y</td>\n",
       "    </tr>\n",
       "    <tr>\n",
       "      <th>1</th>\n",
       "      <td>RF0D1LEIF6L7</td>\n",
       "      <td>4</td>\n",
       "      <td>0</td>\n",
       "      <td>0</td>\n",
       "      <td>N</td>\n",
       "      <td>Y</td>\n",
       "    </tr>\n",
       "    <tr>\n",
       "      <th>2</th>\n",
       "      <td>RM6YKIWQVNSY</td>\n",
       "      <td>1</td>\n",
       "      <td>6</td>\n",
       "      <td>6</td>\n",
       "      <td>N</td>\n",
       "      <td>Y</td>\n",
       "    </tr>\n",
       "    <tr>\n",
       "      <th>3</th>\n",
       "      <td>R1RL3L68ASPS36</td>\n",
       "      <td>4</td>\n",
       "      <td>0</td>\n",
       "      <td>0</td>\n",
       "      <td>N</td>\n",
       "      <td>Y</td>\n",
       "    </tr>\n",
       "    <tr>\n",
       "      <th>4</th>\n",
       "      <td>R1U4XFBFAG34CY</td>\n",
       "      <td>5</td>\n",
       "      <td>0</td>\n",
       "      <td>0</td>\n",
       "      <td>N</td>\n",
       "      <td>Y</td>\n",
       "    </tr>\n",
       "    <tr>\n",
       "      <th>...</th>\n",
       "      <td>...</td>\n",
       "      <td>...</td>\n",
       "      <td>...</td>\n",
       "      <td>...</td>\n",
       "      <td>...</td>\n",
       "      <td>...</td>\n",
       "    </tr>\n",
       "    <tr>\n",
       "      <th>1740969</th>\n",
       "      <td>R35Q0AQ8SH345M</td>\n",
       "      <td>5</td>\n",
       "      <td>19</td>\n",
       "      <td>20</td>\n",
       "      <td>N</td>\n",
       "      <td>N</td>\n",
       "    </tr>\n",
       "    <tr>\n",
       "      <th>1740970</th>\n",
       "      <td>R23HAHNJHNIRQX</td>\n",
       "      <td>5</td>\n",
       "      <td>13</td>\n",
       "      <td>13</td>\n",
       "      <td>N</td>\n",
       "      <td>Y</td>\n",
       "    </tr>\n",
       "    <tr>\n",
       "      <th>1740971</th>\n",
       "      <td>R3LKB2S1HU172D</td>\n",
       "      <td>5</td>\n",
       "      <td>176</td>\n",
       "      <td>180</td>\n",
       "      <td>N</td>\n",
       "      <td>N</td>\n",
       "    </tr>\n",
       "    <tr>\n",
       "      <th>1740972</th>\n",
       "      <td>RBU9188F59ZRI</td>\n",
       "      <td>5</td>\n",
       "      <td>33</td>\n",
       "      <td>52</td>\n",
       "      <td>N</td>\n",
       "      <td>Y</td>\n",
       "    </tr>\n",
       "    <tr>\n",
       "      <th>1740973</th>\n",
       "      <td>R1JPTDRL2LHD9A</td>\n",
       "      <td>5</td>\n",
       "      <td>4</td>\n",
       "      <td>5</td>\n",
       "      <td>N</td>\n",
       "      <td>N</td>\n",
       "    </tr>\n",
       "  </tbody>\n",
       "</table>\n",
       "<p>1740974 rows × 6 columns</p>\n",
       "</div>"
      ],
      "text/plain": [
       "              review_id  star_rating  helpful_votes  total_votes vine  \\\n",
       "0        R2UM5QMHBHC90Q            5              0            0    N   \n",
       "1          RF0D1LEIF6L7            4              0            0    N   \n",
       "2          RM6YKIWQVNSY            1              6            6    N   \n",
       "3        R1RL3L68ASPS36            4              0            0    N   \n",
       "4        R1U4XFBFAG34CY            5              0            0    N   \n",
       "...                 ...          ...            ...          ...  ...   \n",
       "1740969  R35Q0AQ8SH345M            5             19           20    N   \n",
       "1740970  R23HAHNJHNIRQX            5             13           13    N   \n",
       "1740971  R3LKB2S1HU172D            5            176          180    N   \n",
       "1740972   RBU9188F59ZRI            5             33           52    N   \n",
       "1740973  R1JPTDRL2LHD9A            5              4            5    N   \n",
       "\n",
       "        verified_purchase  \n",
       "0                       Y  \n",
       "1                       Y  \n",
       "2                       Y  \n",
       "3                       Y  \n",
       "4                       Y  \n",
       "...                   ...  \n",
       "1740969                 N  \n",
       "1740970                 Y  \n",
       "1740971                 N  \n",
       "1740972                 Y  \n",
       "1740973                 N  \n",
       "\n",
       "[1740974 rows x 6 columns]"
      ]
     },
     "execution_count": 3,
     "metadata": {},
     "output_type": "execute_result"
    }
   ],
   "source": [
    "vine_df = pd.read_csv(\"Resources/vine_table.csv\")\n",
    "vine_df"
   ]
  },
  {
   "cell_type": "code",
   "execution_count": 4,
   "id": "ba65d90c-0ef6-41f9-8a97-7d3692b0013f",
   "metadata": {},
   "outputs": [
    {
     "data": {
      "text/html": [
       "<div>\n",
       "<style scoped>\n",
       "    .dataframe tbody tr th:only-of-type {\n",
       "        vertical-align: middle;\n",
       "    }\n",
       "\n",
       "    .dataframe tbody tr th {\n",
       "        vertical-align: top;\n",
       "    }\n",
       "\n",
       "    .dataframe thead th {\n",
       "        text-align: right;\n",
       "    }\n",
       "</style>\n",
       "<table border=\"1\" class=\"dataframe\">\n",
       "  <thead>\n",
       "    <tr style=\"text-align: right;\">\n",
       "      <th></th>\n",
       "      <th>review_id</th>\n",
       "      <th>star_rating</th>\n",
       "      <th>helpful_votes</th>\n",
       "      <th>total_votes</th>\n",
       "      <th>vine</th>\n",
       "      <th>verified_purchase</th>\n",
       "    </tr>\n",
       "  </thead>\n",
       "  <tbody>\n",
       "    <tr>\n",
       "      <th>16</th>\n",
       "      <td>RXAHWIC1584UQ</td>\n",
       "      <td>5</td>\n",
       "      <td>20</td>\n",
       "      <td>23</td>\n",
       "      <td>N</td>\n",
       "      <td>Y</td>\n",
       "    </tr>\n",
       "    <tr>\n",
       "      <th>66</th>\n",
       "      <td>RSBELAIC899DO</td>\n",
       "      <td>5</td>\n",
       "      <td>46</td>\n",
       "      <td>51</td>\n",
       "      <td>N</td>\n",
       "      <td>Y</td>\n",
       "    </tr>\n",
       "    <tr>\n",
       "      <th>130</th>\n",
       "      <td>R2HCC4CJ59D225</td>\n",
       "      <td>4</td>\n",
       "      <td>43</td>\n",
       "      <td>43</td>\n",
       "      <td>N</td>\n",
       "      <td>Y</td>\n",
       "    </tr>\n",
       "    <tr>\n",
       "      <th>329</th>\n",
       "      <td>R39BVCCVPRV6F5</td>\n",
       "      <td>5</td>\n",
       "      <td>10</td>\n",
       "      <td>22</td>\n",
       "      <td>N</td>\n",
       "      <td>Y</td>\n",
       "    </tr>\n",
       "    <tr>\n",
       "      <th>609</th>\n",
       "      <td>RL9VF9WXHEHKR</td>\n",
       "      <td>5</td>\n",
       "      <td>35</td>\n",
       "      <td>36</td>\n",
       "      <td>N</td>\n",
       "      <td>Y</td>\n",
       "    </tr>\n",
       "    <tr>\n",
       "      <th>...</th>\n",
       "      <td>...</td>\n",
       "      <td>...</td>\n",
       "      <td>...</td>\n",
       "      <td>...</td>\n",
       "      <td>...</td>\n",
       "      <td>...</td>\n",
       "    </tr>\n",
       "    <tr>\n",
       "      <th>1740965</th>\n",
       "      <td>RQ11DPJXOBJQI</td>\n",
       "      <td>4</td>\n",
       "      <td>61</td>\n",
       "      <td>62</td>\n",
       "      <td>N</td>\n",
       "      <td>N</td>\n",
       "    </tr>\n",
       "    <tr>\n",
       "      <th>1740966</th>\n",
       "      <td>RT6Z2LXX3XEX3</td>\n",
       "      <td>5</td>\n",
       "      <td>27</td>\n",
       "      <td>28</td>\n",
       "      <td>N</td>\n",
       "      <td>N</td>\n",
       "    </tr>\n",
       "    <tr>\n",
       "      <th>1740969</th>\n",
       "      <td>R35Q0AQ8SH345M</td>\n",
       "      <td>5</td>\n",
       "      <td>19</td>\n",
       "      <td>20</td>\n",
       "      <td>N</td>\n",
       "      <td>N</td>\n",
       "    </tr>\n",
       "    <tr>\n",
       "      <th>1740971</th>\n",
       "      <td>R3LKB2S1HU172D</td>\n",
       "      <td>5</td>\n",
       "      <td>176</td>\n",
       "      <td>180</td>\n",
       "      <td>N</td>\n",
       "      <td>N</td>\n",
       "    </tr>\n",
       "    <tr>\n",
       "      <th>1740972</th>\n",
       "      <td>RBU9188F59ZRI</td>\n",
       "      <td>5</td>\n",
       "      <td>33</td>\n",
       "      <td>52</td>\n",
       "      <td>N</td>\n",
       "      <td>Y</td>\n",
       "    </tr>\n",
       "  </tbody>\n",
       "</table>\n",
       "<p>35309 rows × 6 columns</p>\n",
       "</div>"
      ],
      "text/plain": [
       "              review_id  star_rating  helpful_votes  total_votes vine  \\\n",
       "16        RXAHWIC1584UQ            5             20           23    N   \n",
       "66        RSBELAIC899DO            5             46           51    N   \n",
       "130      R2HCC4CJ59D225            4             43           43    N   \n",
       "329      R39BVCCVPRV6F5            5             10           22    N   \n",
       "609       RL9VF9WXHEHKR            5             35           36    N   \n",
       "...                 ...          ...            ...          ...  ...   \n",
       "1740965   RQ11DPJXOBJQI            4             61           62    N   \n",
       "1740966   RT6Z2LXX3XEX3            5             27           28    N   \n",
       "1740969  R35Q0AQ8SH345M            5             19           20    N   \n",
       "1740971  R3LKB2S1HU172D            5            176          180    N   \n",
       "1740972   RBU9188F59ZRI            5             33           52    N   \n",
       "\n",
       "        verified_purchase  \n",
       "16                      Y  \n",
       "66                      Y  \n",
       "130                     Y  \n",
       "329                     Y  \n",
       "609                     Y  \n",
       "...                   ...  \n",
       "1740965                 N  \n",
       "1740966                 N  \n",
       "1740969                 N  \n",
       "1740971                 N  \n",
       "1740972                 Y  \n",
       "\n",
       "[35309 rows x 6 columns]"
      ]
     },
     "execution_count": 4,
     "metadata": {},
     "output_type": "execute_result"
    }
   ],
   "source": [
    "votes_20_plus_df = vine_df.loc[vine_df[\"total_votes\"] >= 20]\n",
    "votes_20_plus_df"
   ]
  },
  {
   "cell_type": "code",
   "execution_count": 8,
   "id": "0d4c010f-ec3f-4a71-a775-d462f5e8c052",
   "metadata": {},
   "outputs": [
    {
     "name": "stdout",
     "output_type": "stream",
     "text": [
      "<class 'pandas.core.frame.DataFrame'>\n",
      "Int64Index: 31827 entries, 16 to 1740972\n",
      "Data columns (total 6 columns):\n",
      " #   Column             Non-Null Count  Dtype \n",
      "---  ------             --------------  ----- \n",
      " 0   review_id          31827 non-null  object\n",
      " 1   star_rating        31827 non-null  int64 \n",
      " 2   helpful_votes      31827 non-null  int64 \n",
      " 3   total_votes        31827 non-null  int64 \n",
      " 4   vine               31827 non-null  object\n",
      " 5   verified_purchase  31827 non-null  object\n",
      "dtypes: int64(3), object(3)\n",
      "memory usage: 1.7+ MB\n"
     ]
    }
   ],
   "source": [
    "pop_help_vote_df = votes_20_plus_df.loc[(votes_20_plus_df[\"helpful_votes\"]/votes_20_plus_df[\"total_votes\"]) >= 0.5]\n",
    "pop_help_vote_df.info()"
   ]
  },
  {
   "cell_type": "code",
   "execution_count": 10,
   "id": "c11902b4-8ad2-4361-9af2-c64cfefe30e4",
   "metadata": {},
   "outputs": [
    {
     "data": {
      "text/plain": [
       "array(['N', 'Y'], dtype=object)"
      ]
     },
     "execution_count": 10,
     "metadata": {},
     "output_type": "execute_result"
    }
   ],
   "source": [
    "pop_help_vote_df[\"vine\"].unique()"
   ]
  },
  {
   "cell_type": "code",
   "execution_count": 65,
   "id": "e360f464-2973-4c78-9589-695d2e4e41f2",
   "metadata": {},
   "outputs": [],
   "source": [
    "paid_review_df = pop_help_vote_df.loc[pop_help_vote_df[\"vine\"] == 'Y']\n",
    "tot_paid_reviews = paid_review_df[\"review_id\"].count()\n",
    "paid_5star_reviews = paid_review_df[\"star_rating\"].loc[paid_review_df[\"star_rating\"] == 5].count()\n",
    "paid_review_avg = round(paid_review_df[\"star_rating\"].mean(), 2)"
   ]
  },
  {
   "cell_type": "code",
   "execution_count": 66,
   "id": "a93220f5-a47f-4bd2-8fa8-8ba9a303fd14",
   "metadata": {},
   "outputs": [],
   "source": [
    "unpaid_review_df = pop_help_vote_df.loc[pop_help_vote_df[\"vine\"] == 'N']\n",
    "tot_unpaid_reviews = unpaid_review_df[\"review_id\"].count()\n",
    "unpaid_5star_reviews = unpaid_review_df[\"star_rating\"].loc[unpaid_review_df[\"star_rating\"] == 5].count()\n",
    "unpaid_review_avg = round(unpaid_review_df[\"star_rating\"].mean(), 2)"
   ]
  },
  {
   "cell_type": "code",
   "execution_count": 71,
   "id": "f0e32dbb-2eb1-4abb-9f57-c85f1ba2c78e",
   "metadata": {},
   "outputs": [
    {
     "name": "stdout",
     "output_type": "stream",
     "text": [
      "vine (paid) 5 star reviews: 57.19%\n",
      "unpaid 5 star reviews: 46.33%\n"
     ]
    }
   ],
   "source": [
    "percent_5star_paid = (paid_5star_reviews / tot_paid_reviews) * 100\n",
    "percent_5star_unpaid = (unpaid_5star_reviews / tot_unpaid_reviews) * 100\n",
    "print(f'vine (paid) 5 star reviews: {round(percent_5star_paid, 2)}%')\n",
    "print(f'unpaid 5 star reviews: {round(percent_5star_unpaid, 2)}%')"
   ]
  },
  {
   "cell_type": "code",
   "execution_count": 37,
   "id": "ecc7e644-a163-4cbf-8e82-88cc0f66635b",
   "metadata": {},
   "outputs": [],
   "source": [
    "unpaid_reviews = unpaid_review_df[\"star_rating\"].to_list()\n",
    "paid_reviews = paid_review_df[\"star_rating\"].to_list()"
   ]
  },
  {
   "cell_type": "code",
   "execution_count": 59,
   "id": "58e7a5e0-bb83-4aac-91a0-9c36518557c7",
   "metadata": {},
   "outputs": [
    {
     "data": {
      "image/png": "[encoded data removed]",
      "text/plain": [
       "<Figure size 576x360 with 1 Axes>"
      ]
     },
     "metadata": {
      "needs_background": "light"
     },
     "output_type": "display_data"
    },
    {
     "data": {
      "text/plain": [
       "<Figure size 432x288 with 0 Axes>"
      ]
     },
     "metadata": {},
     "output_type": "display_data"
    }
   ],
   "source": [
    "data = [unpaid_reviews, paid_reviews]\n",
    " \n",
    "fig = plt.figure(figsize =(8, 5))\n",
    " \n",
    "# Creating axes instance\n",
    "ax = fig.add_axes([0, 0, 1, 1])\n",
    " \n",
    "# Creating plot\n",
    "bp = ax.boxplot(data, \n",
    "                labels=[\"Unpaid Reviews\", \"Vine Reviews (paid)\"], \n",
    "                showmeans=True,\n",
    "                medianprops={\"color\": \"orange\", \"linewidth\": 0.9},\n",
    "                meanline=True)\n",
    "\n",
    "ax.set(ylim=(0, 6), \n",
    "       yticks=np.arange(1, 6), \n",
    "       ylabel=\"Star Reviews (1-5)\", \n",
    "       title=\"Comaparing Vine (paid) and Unpaid Amazon Reviews\")\n",
    "# show plot\n",
    "plt.show()\n",
    "plt.savefig(\"Resources/Boxplot.png\")"
   ]
  },
  {
   "cell_type": "code",
   "execution_count": 63,
   "id": "491b1f5f-c30e-4467-a777-a53aee75aaf0",
   "metadata": {},
   "outputs": [
    {
     "data": {
      "text/plain": [
       "count    285.000000\n",
       "mean       4.326316\n",
       "std        0.958014\n",
       "min        1.000000\n",
       "25%        4.000000\n",
       "50%        5.000000\n",
       "75%        5.000000\n",
       "max        5.000000\n",
       "Name: star_rating, dtype: float64"
      ]
     },
     "execution_count": 63,
     "metadata": {},
     "output_type": "execute_result"
    }
   ],
   "source": [
    "paid_review_df[\"star_rating\"].describe()"
   ]
  },
  {
   "cell_type": "code",
   "execution_count": 64,
   "id": "b082da21-9b5d-4538-92e4-1d30bc46184b",
   "metadata": {},
   "outputs": [
    {
     "data": {
      "text/plain": [
       "count    31542.000000\n",
       "mean         3.683184\n",
       "std          1.526128\n",
       "min          1.000000\n",
       "25%          3.000000\n",
       "50%          4.000000\n",
       "75%          5.000000\n",
       "max          5.000000\n",
       "Name: star_rating, dtype: float64"
      ]
     },
     "execution_count": 64,
     "metadata": {},
     "output_type": "execute_result"
    }
   ],
   "source": [
    "unpaid_review_df[\"star_rating\"].describe()"
   ]
  },
  {
   "cell_type": "code",
   "execution_count": 69,
   "id": "a8242a76-b3fa-430d-a35b-cc12031fdceb",
   "metadata": {},
   "outputs": [
    {
     "data": {
      "text/html": [
       "<div>\n",
       "<style scoped>\n",
       "    .dataframe tbody tr th:only-of-type {\n",
       "        vertical-align: middle;\n",
       "    }\n",
       "\n",
       "    .dataframe tbody tr th {\n",
       "        vertical-align: top;\n",
       "    }\n",
       "\n",
       "    .dataframe thead th {\n",
       "        text-align: right;\n",
       "    }\n",
       "</style>\n",
       "<table border=\"1\" class=\"dataframe\">\n",
       "  <thead>\n",
       "    <tr style=\"text-align: right;\">\n",
       "      <th></th>\n",
       "      <th>total_reviews</th>\n",
       "      <th>average_review_score</th>\n",
       "      <th>total_5_star_reviews</th>\n",
       "      <th>percentage_5_star_review</th>\n",
       "    </tr>\n",
       "  </thead>\n",
       "  <tbody>\n",
       "    <tr>\n",
       "      <th>vine (paid) reviews</th>\n",
       "      <td>285</td>\n",
       "      <td>4.33</td>\n",
       "      <td>163</td>\n",
       "      <td>57.19</td>\n",
       "    </tr>\n",
       "    <tr>\n",
       "      <th>unpaid reviews</th>\n",
       "      <td>31542</td>\n",
       "      <td>3.68</td>\n",
       "      <td>14614</td>\n",
       "      <td>46.33</td>\n",
       "    </tr>\n",
       "  </tbody>\n",
       "</table>\n",
       "</div>"
      ],
      "text/plain": [
       "                     total_reviews  average_review_score  \\\n",
       "vine (paid) reviews            285                  4.33   \n",
       "unpaid reviews               31542                  3.68   \n",
       "\n",
       "                     total_5_star_reviews  percentage_5_star_review  \n",
       "vine (paid) reviews                   163                     57.19  \n",
       "unpaid reviews                      14614                     46.33  "
      ]
     },
     "execution_count": 69,
     "metadata": {},
     "output_type": "execute_result"
    }
   ],
   "source": [
    "data = {'total_reviews': [tot_paid_reviews, tot_unpaid_reviews],\n",
    "        'average_review_score': [paid_review_avg, unpaid_review_avg],\n",
    "        'total_5_star_reviews': [paid_5star_reviews, unpaid_5star_reviews],\n",
    "        'percentage_5_star_review': [round(percent_5star_paid, 2), round(percent_5star_unpaid, 2)],\n",
    "        }\n",
    "\n",
    "df = pd.DataFrame(data, index=['vine (paid) reviews','unpaid reviews'])\n",
    "df"
   ]
  },
  {
   "cell_type": "code",
   "execution_count": null,
   "id": "7870b83f-156d-46e2-b3a7-f9d6c884977d",
   "metadata": {},
   "outputs": [],
   "source": []
  }
 ],
 "metadata": {
  "kernelspec": {
   "display_name": "Python 3 (ipykernel)",
   "language": "python",
   "name": "python3"
  },
  "language_info": {
   "codemirror_mode": {
    "name": "ipython",
    "version": 3
   },
   "file_extension": ".py",
   "mimetype": "text/x-python",
   "name": "python",
   "nbconvert_exporter": "python",
   "pygments_lexer": "ipython3",
   "version": "3.9.7"
  }
 },
 "nbformat": 4,
 "nbformat_minor": 5
}
